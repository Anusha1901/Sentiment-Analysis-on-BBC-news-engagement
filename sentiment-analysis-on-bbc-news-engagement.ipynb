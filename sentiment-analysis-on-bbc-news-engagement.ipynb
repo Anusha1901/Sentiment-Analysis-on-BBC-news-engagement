{
 "cells": [
  {
   "cell_type": "code",
   "execution_count": 1,
   "id": "d61f2556",
   "metadata": {
    "_cell_guid": "b1076dfc-b9ad-4769-8c92-a6c4dae69d19",
    "_uuid": "8f2839f25d086af736a60e9eeb907d3b93b6e0e5",
    "execution": {
     "iopub.execute_input": "2024-03-19T09:00:20.882365Z",
     "iopub.status.busy": "2024-03-19T09:00:20.881678Z",
     "iopub.status.idle": "2024-03-19T09:00:21.822790Z",
     "shell.execute_reply": "2024-03-19T09:00:21.821581Z"
    },
    "papermill": {
     "duration": 0.957327,
     "end_time": "2024-03-19T09:00:21.825686",
     "exception": false,
     "start_time": "2024-03-19T09:00:20.868359",
     "status": "completed"
    },
    "tags": []
   },
   "outputs": [
    {
     "name": "stdout",
     "output_type": "stream",
     "text": [
      "/kaggle/input/global-news-engagement-on-social-media/cnn.csv\n",
      "/kaggle/input/global-news-engagement-on-social-media/bbc.csv\n",
      "/kaggle/input/global-news-engagement-on-social-media/al_jazeera.csv\n",
      "/kaggle/input/global-news-engagement-on-social-media/reuters.csv\n"
     ]
    }
   ],
   "source": [
    "# This Python 3 environment comes with many helpful analytics libraries installed\n",
    "# It is defined by the kaggle/python Docker image: https://github.com/kaggle/docker-python\n",
    "# For example, here's several helpful packages to load\n",
    "\n",
    "import numpy as np # linear algebra\n",
    "import pandas as pd # data processing, CSV file I/O (e.g. pd.read_csv)\n",
    "\n",
    "# Input data files are available in the read-only \"../input/\" directory\n",
    "# For example, running this (by clicking run or pressing Shift+Enter) will list all files under the input directory\n",
    "\n",
    "import os\n",
    "for dirname, _, filenames in os.walk('/kaggle/input'):\n",
    "    for filename in filenames:\n",
    "        print(os.path.join(dirname, filename))\n",
    "\n",
    "# You can write up to 20GB to the current directory (/kaggle/working/) that gets preserved as output when you create a version using \"Save & Run All\" \n",
    "# You can also write temporary files to /kaggle/temp/, but they won't be saved outside of the current session"
   ]
  },
  {
   "cell_type": "markdown",
   "id": "36052fcb",
   "metadata": {
    "papermill": {
     "duration": 0.011124,
     "end_time": "2024-03-19T09:00:21.848661",
     "exception": false,
     "start_time": "2024-03-19T09:00:21.837537",
     "status": "completed"
    },
    "tags": []
   },
   "source": [
    "# LOADING DATA"
   ]
  },
  {
   "cell_type": "code",
   "execution_count": 2,
   "id": "ae226bbe",
   "metadata": {
    "execution": {
     "iopub.execute_input": "2024-03-19T09:00:21.874035Z",
     "iopub.status.busy": "2024-03-19T09:00:21.872761Z",
     "iopub.status.idle": "2024-03-19T09:00:21.911704Z",
     "shell.execute_reply": "2024-03-19T09:00:21.910597Z"
    },
    "papermill": {
     "duration": 0.054224,
     "end_time": "2024-03-19T09:00:21.914417",
     "exception": false,
     "start_time": "2024-03-19T09:00:21.860193",
     "status": "completed"
    },
    "tags": []
   },
   "outputs": [
    {
     "data": {
      "text/html": [
       "<div>\n",
       "<style scoped>\n",
       "    .dataframe tbody tr th:only-of-type {\n",
       "        vertical-align: middle;\n",
       "    }\n",
       "\n",
       "    .dataframe tbody tr th {\n",
       "        vertical-align: top;\n",
       "    }\n",
       "\n",
       "    .dataframe thead th {\n",
       "        text-align: right;\n",
       "    }\n",
       "</style>\n",
       "<table border=\"1\" class=\"dataframe\">\n",
       "  <thead>\n",
       "    <tr style=\"text-align: right;\">\n",
       "      <th></th>\n",
       "      <th>text</th>\n",
       "      <th>likes</th>\n",
       "      <th>comments</th>\n",
       "      <th>shares</th>\n",
       "    </tr>\n",
       "  </thead>\n",
       "  <tbody>\n",
       "    <tr>\n",
       "      <th>0</th>\n",
       "      <td>Queen Camilla was given a miniature version of...</td>\n",
       "      <td>577</td>\n",
       "      <td>228</td>\n",
       "      <td>50</td>\n",
       "    </tr>\n",
       "    <tr>\n",
       "      <th>1</th>\n",
       "      <td>The study found females of five \"menopausal\" w...</td>\n",
       "      <td>174</td>\n",
       "      <td>18</td>\n",
       "      <td>52</td>\n",
       "    </tr>\n",
       "    <tr>\n",
       "      <th>2</th>\n",
       "      <td>The Ivy League university is named after Elihu...</td>\n",
       "      <td>116</td>\n",
       "      <td>59</td>\n",
       "      <td>44</td>\n",
       "    </tr>\n",
       "    <tr>\n",
       "      <th>3</th>\n",
       "      <td>When the law passed in 2019, it sparked mass p...</td>\n",
       "      <td>133</td>\n",
       "      <td>56</td>\n",
       "      <td>16</td>\n",
       "    </tr>\n",
       "    <tr>\n",
       "      <th>4</th>\n",
       "      <td>Freedom Village is located inside Korea's DMZ,...</td>\n",
       "      <td>117</td>\n",
       "      <td>18</td>\n",
       "      <td>26</td>\n",
       "    </tr>\n",
       "  </tbody>\n",
       "</table>\n",
       "</div>"
      ],
      "text/plain": [
       "                                                text  likes  comments  shares\n",
       "0  Queen Camilla was given a miniature version of...    577       228      50\n",
       "1  The study found females of five \"menopausal\" w...    174        18      52\n",
       "2  The Ivy League university is named after Elihu...    116        59      44\n",
       "3  When the law passed in 2019, it sparked mass p...    133        56      16\n",
       "4  Freedom Village is located inside Korea's DMZ,...    117        18      26"
      ]
     },
     "execution_count": 2,
     "metadata": {},
     "output_type": "execute_result"
    }
   ],
   "source": [
    "import warnings\n",
    "df=pd.read_csv('/kaggle/input/global-news-engagement-on-social-media/bbc.csv')\n",
    "df.head()"
   ]
  },
  {
   "cell_type": "code",
   "execution_count": 3,
   "id": "0043f090",
   "metadata": {
    "execution": {
     "iopub.execute_input": "2024-03-19T09:00:21.940395Z",
     "iopub.status.busy": "2024-03-19T09:00:21.939366Z",
     "iopub.status.idle": "2024-03-19T09:00:21.947020Z",
     "shell.execute_reply": "2024-03-19T09:00:21.945854Z"
    },
    "papermill": {
     "duration": 0.023231,
     "end_time": "2024-03-19T09:00:21.949403",
     "exception": false,
     "start_time": "2024-03-19T09:00:21.926172",
     "status": "completed"
    },
    "tags": []
   },
   "outputs": [
    {
     "data": {
      "text/plain": [
       "(1000, 4)"
      ]
     },
     "execution_count": 3,
     "metadata": {},
     "output_type": "execute_result"
    }
   ],
   "source": [
    "df.shape"
   ]
  },
  {
   "cell_type": "code",
   "execution_count": 4,
   "id": "93a7945b",
   "metadata": {
    "execution": {
     "iopub.execute_input": "2024-03-19T09:00:21.975166Z",
     "iopub.status.busy": "2024-03-19T09:00:21.974412Z",
     "iopub.status.idle": "2024-03-19T09:00:22.001745Z",
     "shell.execute_reply": "2024-03-19T09:00:22.000402Z"
    },
    "papermill": {
     "duration": 0.043125,
     "end_time": "2024-03-19T09:00:22.004370",
     "exception": false,
     "start_time": "2024-03-19T09:00:21.961245",
     "status": "completed"
    },
    "tags": []
   },
   "outputs": [
    {
     "name": "stdout",
     "output_type": "stream",
     "text": [
      "<class 'pandas.core.frame.DataFrame'>\n",
      "RangeIndex: 1000 entries, 0 to 999\n",
      "Data columns (total 4 columns):\n",
      " #   Column    Non-Null Count  Dtype \n",
      "---  ------    --------------  ----- \n",
      " 0   text      1000 non-null   object\n",
      " 1   likes     1000 non-null   int64 \n",
      " 2   comments  1000 non-null   int64 \n",
      " 3   shares    1000 non-null   int64 \n",
      "dtypes: int64(3), object(1)\n",
      "memory usage: 31.4+ KB\n"
     ]
    }
   ],
   "source": [
    "df.info()"
   ]
  },
  {
   "cell_type": "code",
   "execution_count": 5,
   "id": "f84384c0",
   "metadata": {
    "execution": {
     "iopub.execute_input": "2024-03-19T09:00:22.031773Z",
     "iopub.status.busy": "2024-03-19T09:00:22.030987Z",
     "iopub.status.idle": "2024-03-19T09:00:22.039082Z",
     "shell.execute_reply": "2024-03-19T09:00:22.038238Z"
    },
    "papermill": {
     "duration": 0.024701,
     "end_time": "2024-03-19T09:00:22.041529",
     "exception": false,
     "start_time": "2024-03-19T09:00:22.016828",
     "status": "completed"
    },
    "tags": []
   },
   "outputs": [
    {
     "data": {
      "text/plain": [
       "text        0\n",
       "likes       0\n",
       "comments    0\n",
       "shares      0\n",
       "dtype: int64"
      ]
     },
     "execution_count": 5,
     "metadata": {},
     "output_type": "execute_result"
    }
   ],
   "source": [
    "df.isna().sum()"
   ]
  },
  {
   "cell_type": "markdown",
   "id": "30e89447",
   "metadata": {
    "execution": {
     "iopub.execute_input": "2024-03-19T08:54:58.094462Z",
     "iopub.status.busy": "2024-03-19T08:54:58.094060Z",
     "iopub.status.idle": "2024-03-19T08:54:58.102278Z",
     "shell.execute_reply": "2024-03-19T08:54:58.100522Z",
     "shell.execute_reply.started": "2024-03-19T08:54:58.094435Z"
    },
    "papermill": {
     "duration": 0.011832,
     "end_time": "2024-03-19T09:00:22.066092",
     "exception": false,
     "start_time": "2024-03-19T09:00:22.054260",
     "status": "completed"
    },
    "tags": []
   },
   "source": [
    "# ANALYZING TEXT COLUMN"
   ]
  },
  {
   "cell_type": "code",
   "execution_count": 6,
   "id": "59d17663",
   "metadata": {
    "execution": {
     "iopub.execute_input": "2024-03-19T09:00:22.093190Z",
     "iopub.status.busy": "2024-03-19T09:00:22.092496Z",
     "iopub.status.idle": "2024-03-19T09:00:24.141946Z",
     "shell.execute_reply": "2024-03-19T09:00:24.140779Z"
    },
    "papermill": {
     "duration": 2.066022,
     "end_time": "2024-03-19T09:00:24.145168",
     "exception": false,
     "start_time": "2024-03-19T09:00:22.079146",
     "status": "completed"
    },
    "tags": []
   },
   "outputs": [],
   "source": [
    "import nltk\n",
    "from nltk.corpus import stopwords\n",
    "from nltk.tokenize import word_tokenize, sent_tokenize\n",
    "from nltk.stem import PorterStemmer\n",
    "from collections import Counter"
   ]
  },
  {
   "cell_type": "code",
   "execution_count": 7,
   "id": "a65ec098",
   "metadata": {
    "execution": {
     "iopub.execute_input": "2024-03-19T09:00:24.171385Z",
     "iopub.status.busy": "2024-03-19T09:00:24.170958Z",
     "iopub.status.idle": "2024-03-19T09:00:24.253167Z",
     "shell.execute_reply": "2024-03-19T09:00:24.251930Z"
    },
    "papermill": {
     "duration": 0.098658,
     "end_time": "2024-03-19T09:00:24.256025",
     "exception": false,
     "start_time": "2024-03-19T09:00:24.157367",
     "status": "completed"
    },
    "tags": []
   },
   "outputs": [],
   "source": [
    "# Tokenize the text column into sentences\n",
    "df['sentences'] = df['text'].apply(sent_tokenize)"
   ]
  },
  {
   "cell_type": "code",
   "execution_count": 8,
   "id": "808683ac",
   "metadata": {
    "execution": {
     "iopub.execute_input": "2024-03-19T09:00:24.282902Z",
     "iopub.status.busy": "2024-03-19T09:00:24.282472Z",
     "iopub.status.idle": "2024-03-19T09:00:24.554818Z",
     "shell.execute_reply": "2024-03-19T09:00:24.553622Z"
    },
    "papermill": {
     "duration": 0.289,
     "end_time": "2024-03-19T09:00:24.557745",
     "exception": false,
     "start_time": "2024-03-19T09:00:24.268745",
     "status": "completed"
    },
    "tags": []
   },
   "outputs": [],
   "source": [
    "# Tokenize the sentences into words\n",
    "df['words'] = df['sentences'].apply(lambda x: [word_tokenize(sent) for sent in x])"
   ]
  },
  {
   "cell_type": "code",
   "execution_count": 9,
   "id": "faa32267",
   "metadata": {
    "execution": {
     "iopub.execute_input": "2024-03-19T09:00:24.584340Z",
     "iopub.status.busy": "2024-03-19T09:00:24.583710Z",
     "iopub.status.idle": "2024-03-19T09:00:24.636840Z",
     "shell.execute_reply": "2024-03-19T09:00:24.635444Z"
    },
    "papermill": {
     "duration": 0.069816,
     "end_time": "2024-03-19T09:00:24.639908",
     "exception": false,
     "start_time": "2024-03-19T09:00:24.570092",
     "status": "completed"
    },
    "tags": []
   },
   "outputs": [],
   "source": [
    "import string\n",
    "# Remove punctuation marks\n",
    "punctuations = string.punctuation\n",
    "df['words_no_punct'] = df['words'].apply(lambda x: [[word.translate(str.maketrans('', '', string.punctuation)) for word in sent] for sent in x])"
   ]
  },
  {
   "cell_type": "code",
   "execution_count": 10,
   "id": "e5eeca7e",
   "metadata": {
    "execution": {
     "iopub.execute_input": "2024-03-19T09:00:24.666014Z",
     "iopub.status.busy": "2024-03-19T09:00:24.665595Z",
     "iopub.status.idle": "2024-03-19T09:00:24.685083Z",
     "shell.execute_reply": "2024-03-19T09:00:24.683907Z"
    },
    "papermill": {
     "duration": 0.035762,
     "end_time": "2024-03-19T09:00:24.687911",
     "exception": false,
     "start_time": "2024-03-19T09:00:24.652149",
     "status": "completed"
    },
    "tags": []
   },
   "outputs": [],
   "source": [
    "# Remove stop words\n",
    "stop_words = set(stopwords.words('english'))\n",
    "df['words_cleaned'] = df['words_no_punct'].apply(lambda x: [[word for word in sent if word.lower() not in stop_words] for sent in x])"
   ]
  },
  {
   "cell_type": "code",
   "execution_count": 11,
   "id": "fce0e8c8",
   "metadata": {
    "execution": {
     "iopub.execute_input": "2024-03-19T09:00:24.714056Z",
     "iopub.status.busy": "2024-03-19T09:00:24.713601Z",
     "iopub.status.idle": "2024-03-19T09:00:25.033223Z",
     "shell.execute_reply": "2024-03-19T09:00:25.031891Z"
    },
    "papermill": {
     "duration": 0.335946,
     "end_time": "2024-03-19T09:00:25.036202",
     "exception": false,
     "start_time": "2024-03-19T09:00:24.700256",
     "status": "completed"
    },
    "tags": []
   },
   "outputs": [],
   "source": [
    "# Stem the words\n",
    "stemmer = PorterStemmer()\n",
    "df['words_stemmed'] = df['words_cleaned'].apply(lambda x: [[stemmer.stem(word) for word in sent] for sent in x])"
   ]
  },
  {
   "cell_type": "code",
   "execution_count": 12,
   "id": "8710ef29",
   "metadata": {
    "execution": {
     "iopub.execute_input": "2024-03-19T09:00:25.064096Z",
     "iopub.status.busy": "2024-03-19T09:00:25.063318Z",
     "iopub.status.idle": "2024-03-19T09:00:25.071406Z",
     "shell.execute_reply": "2024-03-19T09:00:25.070419Z"
    },
    "papermill": {
     "duration": 0.024808,
     "end_time": "2024-03-19T09:00:25.073889",
     "exception": false,
     "start_time": "2024-03-19T09:00:25.049081",
     "status": "completed"
    },
    "tags": []
   },
   "outputs": [],
   "source": [
    "# Flatten the list of lists\n",
    "df['words_flat'] = df['words_stemmed'].apply(lambda x: [item for sublist in x for item in sublist])"
   ]
  },
  {
   "cell_type": "code",
   "execution_count": 13,
   "id": "f5c56ca2",
   "metadata": {
    "execution": {
     "iopub.execute_input": "2024-03-19T09:00:25.099912Z",
     "iopub.status.busy": "2024-03-19T09:00:25.099456Z",
     "iopub.status.idle": "2024-03-19T09:00:25.107274Z",
     "shell.execute_reply": "2024-03-19T09:00:25.106233Z"
    },
    "papermill": {
     "duration": 0.023748,
     "end_time": "2024-03-19T09:00:25.109839",
     "exception": false,
     "start_time": "2024-03-19T09:00:25.086091",
     "status": "completed"
    },
    "tags": []
   },
   "outputs": [],
   "source": [
    "# Count word frequencies\n",
    "word_counts = Counter()\n",
    "for words in df['words_flat']:\n",
    "    word_counts.update(words)"
   ]
  },
  {
   "cell_type": "code",
   "execution_count": 14,
   "id": "50aacf17",
   "metadata": {
    "execution": {
     "iopub.execute_input": "2024-03-19T09:00:25.137271Z",
     "iopub.status.busy": "2024-03-19T09:00:25.136421Z",
     "iopub.status.idle": "2024-03-19T09:00:25.144958Z",
     "shell.execute_reply": "2024-03-19T09:00:25.143864Z"
    },
    "papermill": {
     "duration": 0.025985,
     "end_time": "2024-03-19T09:00:25.148143",
     "exception": false,
     "start_time": "2024-03-19T09:00:25.122158",
     "status": "completed"
    },
    "tags": []
   },
   "outputs": [
    {
     "name": "stdout",
     "output_type": "stream",
     "text": [
      "Most common words:\n",
      ": 2569\n",
      "said: 110\n",
      "year: 56\n",
      "peopl: 52\n",
      "bbc: 48\n",
      "one: 45\n",
      "via: 43\n",
      "US: 41\n",
      "nt: 34\n",
      "would: 31\n"
     ]
    }
   ],
   "source": [
    "# Print the most common words\n",
    "print(\"Most common words:\")\n",
    "for word, count in word_counts.most_common(10):\n",
    "    print(f\"{word}: {count}\")"
   ]
  },
  {
   "cell_type": "markdown",
   "id": "d92ae542",
   "metadata": {
    "papermill": {
     "duration": 0.012347,
     "end_time": "2024-03-19T09:00:25.172742",
     "exception": false,
     "start_time": "2024-03-19T09:00:25.160395",
     "status": "completed"
    },
    "tags": []
   },
   "source": [
    "# ANALYZING SENTIEMNT SCORE"
   ]
  },
  {
   "cell_type": "code",
   "execution_count": 15,
   "id": "9acbbf7b",
   "metadata": {
    "execution": {
     "iopub.execute_input": "2024-03-19T09:00:25.198977Z",
     "iopub.status.busy": "2024-03-19T09:00:25.198605Z",
     "iopub.status.idle": "2024-03-19T09:00:25.236303Z",
     "shell.execute_reply": "2024-03-19T09:00:25.234690Z"
    },
    "papermill": {
     "duration": 0.053994,
     "end_time": "2024-03-19T09:00:25.239127",
     "exception": false,
     "start_time": "2024-03-19T09:00:25.185133",
     "status": "completed"
    },
    "tags": []
   },
   "outputs": [
    {
     "name": "stderr",
     "output_type": "stream",
     "text": [
      "/opt/conda/lib/python3.10/site-packages/nltk/twitter/__init__.py:20: UserWarning: The twython library has not been installed. Some functionality from the twitter package will not be available.\n",
      "  warnings.warn(\"The twython library has not been installed. \"\n"
     ]
    }
   ],
   "source": [
    "from nltk.sentiment import SentimentIntensityAnalyzer\n",
    "# Initialize the sentiment analyzer\n",
    "sid = SentimentIntensityAnalyzer()"
   ]
  },
  {
   "cell_type": "code",
   "execution_count": 16,
   "id": "4118bf61",
   "metadata": {
    "execution": {
     "iopub.execute_input": "2024-03-19T09:00:25.265695Z",
     "iopub.status.busy": "2024-03-19T09:00:25.265233Z",
     "iopub.status.idle": "2024-03-19T09:00:25.270253Z",
     "shell.execute_reply": "2024-03-19T09:00:25.269164Z"
    },
    "papermill": {
     "duration": 0.021173,
     "end_time": "2024-03-19T09:00:25.272681",
     "exception": false,
     "start_time": "2024-03-19T09:00:25.251508",
     "status": "completed"
    },
    "tags": []
   },
   "outputs": [],
   "source": [
    "# Function to calculate sentiment scores\n",
    "def calculate_sentiment(text):\n",
    "    scores = sid.polarity_scores(text)\n",
    "    return scores['compound']"
   ]
  },
  {
   "cell_type": "code",
   "execution_count": 17,
   "id": "de2d9aa3",
   "metadata": {
    "execution": {
     "iopub.execute_input": "2024-03-19T09:00:25.299779Z",
     "iopub.status.busy": "2024-03-19T09:00:25.299322Z",
     "iopub.status.idle": "2024-03-19T09:00:25.585870Z",
     "shell.execute_reply": "2024-03-19T09:00:25.584740Z"
    },
    "papermill": {
     "duration": 0.302966,
     "end_time": "2024-03-19T09:00:25.588372",
     "exception": false,
     "start_time": "2024-03-19T09:00:25.285406",
     "status": "completed"
    },
    "tags": []
   },
   "outputs": [
    {
     "name": "stdout",
     "output_type": "stream",
     "text": [
      "                                                  text  sentiment_score\n",
      "0    Queen Camilla was given a miniature version of...           0.0000\n",
      "1    The study found females of five \"menopausal\" w...           0.0000\n",
      "2    The Ivy League university is named after Elihu...           0.0000\n",
      "3    When the law passed in 2019, it sparked mass p...          -0.8350\n",
      "4    Freedom Village is located inside Korea's DMZ,...           0.6369\n",
      "..                                                 ...              ...\n",
      "995  The animals were discovered in small film cani...          -0.3400\n",
      "996           George Freeman had a salary of £118,300.           0.4019\n",
      "997  Valdo Calocane admitted manslaughter on the gr...          -0.5859\n",
      "998  The US blamed Iranian-backed groups and said t...          -0.7351\n",
      "999  \"We've probably got more hedgerows in England ...           0.0000\n",
      "\n",
      "[1000 rows x 2 columns]\n"
     ]
    }
   ],
   "source": [
    "# Apply the sentiment analysis function to the 'text' column\n",
    "df['sentiment_score'] = df['text'].apply(calculate_sentiment)\n",
    "\n",
    "# Print the sentiment scores\n",
    "print(df[['text', 'sentiment_score']])"
   ]
  },
  {
   "cell_type": "code",
   "execution_count": 18,
   "id": "ae56e7ad",
   "metadata": {
    "execution": {
     "iopub.execute_input": "2024-03-19T09:00:25.614770Z",
     "iopub.status.busy": "2024-03-19T09:00:25.614365Z",
     "iopub.status.idle": "2024-03-19T09:00:25.619692Z",
     "shell.execute_reply": "2024-03-19T09:00:25.618405Z"
    },
    "papermill": {
     "duration": 0.021426,
     "end_time": "2024-03-19T09:00:25.622116",
     "exception": false,
     "start_time": "2024-03-19T09:00:25.600690",
     "status": "completed"
    },
    "tags": []
   },
   "outputs": [],
   "source": [
    "import matplotlib.pyplot as plt"
   ]
  },
  {
   "cell_type": "code",
   "execution_count": 19,
   "id": "086bc9fb",
   "metadata": {
    "execution": {
     "iopub.execute_input": "2024-03-19T09:00:25.648751Z",
     "iopub.status.busy": "2024-03-19T09:00:25.647928Z",
     "iopub.status.idle": "2024-03-19T09:00:25.657961Z",
     "shell.execute_reply": "2024-03-19T09:00:25.657149Z"
    },
    "papermill": {
     "duration": 0.025856,
     "end_time": "2024-03-19T09:00:25.660316",
     "exception": false,
     "start_time": "2024-03-19T09:00:25.634460",
     "status": "completed"
    },
    "tags": []
   },
   "outputs": [],
   "source": [
    "# Categorize sentiment scores into positive, neutral, and negative\n",
    "bins = [-1, -0.05, 0.05, 1]\n",
    "labels = ['Negative', 'Neutral', 'Positive']\n",
    "df['sentiment_category'] = pd.cut(df['sentiment_score'], bins=bins, labels=labels)"
   ]
  },
  {
   "cell_type": "code",
   "execution_count": 20,
   "id": "fbf23c03",
   "metadata": {
    "execution": {
     "iopub.execute_input": "2024-03-19T09:00:25.686813Z",
     "iopub.status.busy": "2024-03-19T09:00:25.686142Z",
     "iopub.status.idle": "2024-03-19T09:00:25.692462Z",
     "shell.execute_reply": "2024-03-19T09:00:25.691593Z"
    },
    "papermill": {
     "duration": 0.022257,
     "end_time": "2024-03-19T09:00:25.694860",
     "exception": false,
     "start_time": "2024-03-19T09:00:25.672603",
     "status": "completed"
    },
    "tags": []
   },
   "outputs": [],
   "source": [
    "# Count the occurrences of each sentiment category\n",
    "sentiment_counts = df['sentiment_category'].value_counts()"
   ]
  },
  {
   "cell_type": "code",
   "execution_count": 21,
   "id": "a9638dc2",
   "metadata": {
    "execution": {
     "iopub.execute_input": "2024-03-19T09:00:25.721443Z",
     "iopub.status.busy": "2024-03-19T09:00:25.721044Z",
     "iopub.status.idle": "2024-03-19T09:00:26.073235Z",
     "shell.execute_reply": "2024-03-19T09:00:26.072087Z"
    },
    "papermill": {
     "duration": 0.368866,
     "end_time": "2024-03-19T09:00:26.076132",
     "exception": false,
     "start_time": "2024-03-19T09:00:25.707266",
     "status": "completed"
    },
    "tags": []
   },
   "outputs": [
    {
     "data": {
      "image/png": "[encoded data removed]",
      "text/plain": [
       "<Figure size 800x600 with 1 Axes>"
      ]
     },
     "metadata": {},
     "output_type": "display_data"
    }
   ],
   "source": [
    "# Create a bar plot\n",
    "plt.figure(figsize=(8, 6))\n",
    "sentiment_counts.plot(kind='bar')\n",
    "plt.xlabel('Sentiment Category', fontsize=12)\n",
    "plt.ylabel('Count', fontsize=12)\n",
    "plt.title('Distribution of Sentiment Categories', fontsize=16)\n",
    "plt.xticks(rotation=0)\n",
    "\n",
    "# Add value labels on top of the bars\n",
    "for i, v in enumerate(sentiment_counts.values):\n",
    "    plt.text(i, v, str(v), fontsize=10, horizontalalignment='center', verticalalignment='bottom')\n",
    "\n",
    "plt.show()"
   ]
  },
  {
   "cell_type": "markdown",
   "id": "d61c789a",
   "metadata": {
    "papermill": {
     "duration": 0.014722,
     "end_time": "2024-03-19T09:00:26.104451",
     "exception": false,
     "start_time": "2024-03-19T09:00:26.089729",
     "status": "completed"
    },
    "tags": []
   },
   "source": [
    "This distribution suggests that a significant portion of the text in the dataset has been classified as having neutral sentiment, meaning that the content does not express strong positive or negative emotions or opinions.\n",
    "\n",
    "The \"Negative\" sentiment category having the second-highest count indicates that there is a considerable amount of text expressing negative sentiments, such as criticism, dissatisfaction, or undesirable opinions.\n",
    "\n",
    "The \"Positive\" sentiment category has the lowest count, implying that the dataset contains relatively fewer instances of text expressing positive sentiments, such as praise, joy, or favorable opinions."
   ]
  },
  {
   "cell_type": "markdown",
   "id": "8179fd18",
   "metadata": {
    "papermill": {
     "duration": 0.013238,
     "end_time": "2024-03-19T09:00:26.130727",
     "exception": false,
     "start_time": "2024-03-19T09:00:26.117489",
     "status": "completed"
    },
    "tags": []
   },
   "source": [
    "# ANALYZING ENGAGEMENT LEVELS"
   ]
  },
  {
   "cell_type": "code",
   "execution_count": 22,
   "id": "98de112c",
   "metadata": {
    "execution": {
     "iopub.execute_input": "2024-03-19T09:00:26.159562Z",
     "iopub.status.busy": "2024-03-19T09:00:26.158852Z",
     "iopub.status.idle": "2024-03-19T09:00:26.166591Z",
     "shell.execute_reply": "2024-03-19T09:00:26.164988Z"
    },
    "papermill": {
     "duration": 0.025135,
     "end_time": "2024-03-19T09:00:26.168940",
     "exception": false,
     "start_time": "2024-03-19T09:00:26.143805",
     "status": "completed"
    },
    "tags": []
   },
   "outputs": [
    {
     "name": "stdout",
     "output_type": "stream",
     "text": [
      "Overall Engagement Levels:\n",
      "Total Likes: 805666\n",
      "Total Comments: 246535\n",
      "Total Shares: 67735\n"
     ]
    }
   ],
   "source": [
    "# Overall Engagement Levels\n",
    "print(\"Overall Engagement Levels:\")\n",
    "print(\"Total Likes:\", df['likes'].sum())\n",
    "print(\"Total Comments:\", df['comments'].sum())\n",
    "print(\"Total Shares:\", df['shares'].sum())"
   ]
  },
  {
   "cell_type": "code",
   "execution_count": 23,
   "id": "ab4e3519",
   "metadata": {
    "execution": {
     "iopub.execute_input": "2024-03-19T09:00:26.198018Z",
     "iopub.status.busy": "2024-03-19T09:00:26.196803Z",
     "iopub.status.idle": "2024-03-19T09:00:28.924373Z",
     "shell.execute_reply": "2024-03-19T09:00:28.923060Z"
    },
    "papermill": {
     "duration": 2.744769,
     "end_time": "2024-03-19T09:00:28.927118",
     "exception": false,
     "start_time": "2024-03-19T09:00:26.182349",
     "status": "completed"
    },
    "tags": []
   },
   "outputs": [
    {
     "name": "stderr",
     "output_type": "stream",
     "text": [
      "/opt/conda/lib/python3.10/site-packages/seaborn/_oldcore.py:1119: FutureWarning: use_inf_as_na option is deprecated and will be removed in a future version. Convert inf values to NaN before operating instead.\n",
      "  with pd.option_context('mode.use_inf_as_na', True):\n",
      "/opt/conda/lib/python3.10/site-packages/seaborn/_oldcore.py:1119: FutureWarning: use_inf_as_na option is deprecated and will be removed in a future version. Convert inf values to NaN before operating instead.\n",
      "  with pd.option_context('mode.use_inf_as_na', True):\n",
      "/opt/conda/lib/python3.10/site-packages/seaborn/_oldcore.py:1119: FutureWarning: use_inf_as_na option is deprecated and will be removed in a future version. Convert inf values to NaN before operating instead.\n",
      "  with pd.option_context('mode.use_inf_as_na', True):\n"
     ]
    },
    {
     "data": {
      "image/png": "[encoded data removed]",
      "text/plain": [
       "<Figure size 1200x400 with 3 Axes>"
      ]
     },
     "metadata": {},
     "output_type": "display_data"
    }
   ],
   "source": [
    "import seaborn as sns\n",
    "# Engagement Distribution\n",
    "plt.figure(figsize=(12, 4))\n",
    "\n",
    "plt.subplot(1, 3, 1)\n",
    "sns.histplot(df['likes'], kde=True)\n",
    "plt.title('Distribution of Likes')\n",
    "\n",
    "plt.subplot(1, 3, 2)\n",
    "sns.histplot(df['comments'], kde=True)\n",
    "plt.title('Distribution of Comments')\n",
    "\n",
    "plt.subplot(1, 3, 3)\n",
    "sns.histplot(df['shares'], kde=True)\n",
    "plt.title('Distribution of Shares')\n",
    "\n",
    "plt.tight_layout()\n",
    "plt.show()\n"
   ]
  },
  {
   "cell_type": "markdown",
   "id": "7196c201",
   "metadata": {
    "papermill": {
     "duration": 0.013752,
     "end_time": "2024-03-19T09:00:28.955157",
     "exception": false,
     "start_time": "2024-03-19T09:00:28.941405",
     "status": "completed"
    },
    "tags": []
   },
   "source": [
    "These distributions suggest that while the majority of content pieces receive relatively moderate levels of engagement (likes, comments, shares), there are a few outliers or highly engaging content pieces that drive the long tails in the distributions, particularly for likes.\n",
    "\n",
    "The heavily skewed nature of the distributions, especially for likes, could be due to several factors, such as the presence of viral or highly popular content pieces, the influence of influential accounts or content creators, or the specific dynamics of engagement on the platform or social network being analyzed."
   ]
  },
  {
   "cell_type": "code",
   "execution_count": 24,
   "id": "29373814",
   "metadata": {
    "execution": {
     "iopub.execute_input": "2024-03-19T09:00:28.985088Z",
     "iopub.status.busy": "2024-03-19T09:00:28.984697Z",
     "iopub.status.idle": "2024-03-19T09:00:28.995477Z",
     "shell.execute_reply": "2024-03-19T09:00:28.994157Z"
    },
    "papermill": {
     "duration": 0.028777,
     "end_time": "2024-03-19T09:00:28.998137",
     "exception": false,
     "start_time": "2024-03-19T09:00:28.969360",
     "status": "completed"
    },
    "tags": []
   },
   "outputs": [
    {
     "name": "stdout",
     "output_type": "stream",
     "text": [
      "\n",
      "Correlation Matrix:\n",
      "             likes  comments    shares\n",
      "likes     1.000000  0.365673  0.667817\n",
      "comments  0.365673  1.000000  0.386269\n",
      "shares    0.667817  0.386269  1.000000\n"
     ]
    }
   ],
   "source": [
    "# Correlation Analysis\n",
    "engagement_corr = df[['likes', 'comments', 'shares']].corr()\n",
    "print(\"\\nCorrelation Matrix:\")\n",
    "print(engagement_corr)"
   ]
  },
  {
   "cell_type": "markdown",
   "id": "0a7afea5",
   "metadata": {
    "papermill": {
     "duration": 0.014138,
     "end_time": "2024-03-19T09:00:29.026888",
     "exception": false,
     "start_time": "2024-03-19T09:00:29.012750",
     "status": "completed"
    },
    "tags": []
   },
   "source": [
    "The correlation coefficient between likes and comments is 0.365673, which indicates a moderate positive correlation. This means that content with more likes tends to have more comments as well, but the relationship is not extremely strong.\n",
    "\n",
    "The correlation coefficient between likes and shares is 0.667817, which indicates a moderately strong positive correlation. This suggests that content with more likes is likely to have a higher number of shares as well, and vice versa.\n",
    "\n",
    "The correlation coefficient between comments and shares is 0.386269, which is a moderate positive correlation. This implies that content with more comments tends to have more shares as well, but the relationship is not as strong as the one between likes and shares."
   ]
  },
  {
   "cell_type": "code",
   "execution_count": 25,
   "id": "22c2e578",
   "metadata": {
    "execution": {
     "iopub.execute_input": "2024-03-19T09:00:29.058025Z",
     "iopub.status.busy": "2024-03-19T09:00:29.057169Z",
     "iopub.status.idle": "2024-03-19T09:00:29.073920Z",
     "shell.execute_reply": "2024-03-19T09:00:29.072575Z"
    },
    "papermill": {
     "duration": 0.036842,
     "end_time": "2024-03-19T09:00:29.078148",
     "exception": false,
     "start_time": "2024-03-19T09:00:29.041306",
     "status": "completed"
    },
    "tags": []
   },
   "outputs": [
    {
     "name": "stdout",
     "output_type": "stream",
     "text": [
      "\n",
      "Engagement by Sentiment:\n",
      "  sentiment_category   likes  comments  shares\n",
      "0           Negative  221351     86017   20955\n",
      "1            Neutral  295069     94399   24885\n",
      "2           Positive  289246     66119   21895\n"
     ]
    },
    {
     "name": "stderr",
     "output_type": "stream",
     "text": [
      "/tmp/ipykernel_18/3910728675.py:2: FutureWarning: The default of observed=False is deprecated and will be changed to True in a future version of pandas. Pass observed=False to retain current behavior or observed=True to adopt the future default and silence this warning.\n",
      "  sentiment_engagement = df.groupby('sentiment_category')[['likes', 'comments', 'shares']].sum().reset_index()\n"
     ]
    }
   ],
   "source": [
    "# Engagement by Sentiment\n",
    "sentiment_engagement = df.groupby('sentiment_category')[['likes', 'comments', 'shares']].sum().reset_index()\n",
    "print(\"\\nEngagement by Sentiment:\")\n",
    "print(sentiment_engagement)"
   ]
  },
  {
   "cell_type": "markdown",
   "id": "e4b6e789",
   "metadata": {
    "papermill": {
     "duration": 0.015132,
     "end_time": "2024-03-19T09:00:29.110968",
     "exception": false,
     "start_time": "2024-03-19T09:00:29.095836",
     "status": "completed"
    },
    "tags": []
   },
   "source": [
    "The audience's engagement preferences may vary depending on the sentiment of the content. Neutral content seems to perform well across all engagement metrics, while negative content generates more comments (potentially discussions or reactions), and positive content is well-liked but may not trigger as much sharing or commenting behavior."
   ]
  },
  {
   "cell_type": "code",
   "execution_count": 26,
   "id": "c35a09e1",
   "metadata": {
    "execution": {
     "iopub.execute_input": "2024-03-19T09:00:29.145367Z",
     "iopub.status.busy": "2024-03-19T09:00:29.144682Z",
     "iopub.status.idle": "2024-03-19T09:00:29.155880Z",
     "shell.execute_reply": "2024-03-19T09:00:29.154784Z"
    },
    "papermill": {
     "duration": 0.032747,
     "end_time": "2024-03-19T09:00:29.158545",
     "exception": false,
     "start_time": "2024-03-19T09:00:29.125798",
     "status": "completed"
    },
    "tags": []
   },
   "outputs": [
    {
     "name": "stderr",
     "output_type": "stream",
     "text": [
      "/tmp/ipykernel_18/1636423700.py:2: FutureWarning: The default of observed=False is deprecated and will be changed to True in a future version of pandas. Pass observed=False to retain current behavior or observed=True to adopt the future default and silence this warning.\n",
      "  engagement_ratios_by_sentiment = df.groupby('sentiment_category')[['likes', 'comments', 'shares']].sum().reset_index()\n"
     ]
    }
   ],
   "source": [
    "# Engagement Ratios by Sentiment\n",
    "engagement_ratios_by_sentiment = df.groupby('sentiment_category')[['likes', 'comments', 'shares']].sum().reset_index()\n",
    "engagement_ratios_by_sentiment['comments_to_likes'] = engagement_ratios_by_sentiment['comments'] / engagement_ratios_by_sentiment['likes']\n",
    "engagement_ratios_by_sentiment['shares_to_likes'] = engagement_ratios_by_sentiment['shares'] / engagement_ratios_by_sentiment['likes']"
   ]
  },
  {
   "cell_type": "code",
   "execution_count": 27,
   "id": "30dfc101",
   "metadata": {
    "execution": {
     "iopub.execute_input": "2024-03-19T09:00:29.191532Z",
     "iopub.status.busy": "2024-03-19T09:00:29.190758Z",
     "iopub.status.idle": "2024-03-19T09:00:29.201790Z",
     "shell.execute_reply": "2024-03-19T09:00:29.200488Z"
    },
    "papermill": {
     "duration": 0.030713,
     "end_time": "2024-03-19T09:00:29.204252",
     "exception": false,
     "start_time": "2024-03-19T09:00:29.173539",
     "status": "completed"
    },
    "tags": []
   },
   "outputs": [
    {
     "name": "stdout",
     "output_type": "stream",
     "text": [
      "\n",
      "Engagement Ratios by Sentiment:\n",
      "  sentiment_category  comments_to_likes  shares_to_likes\n",
      "0           Negative           0.388600         0.094669\n",
      "1            Neutral           0.319922         0.084336\n",
      "2           Positive           0.228591         0.075697\n"
     ]
    }
   ],
   "source": [
    "print(\"\\nEngagement Ratios by Sentiment:\")\n",
    "print(engagement_ratios_by_sentiment[['sentiment_category', 'comments_to_likes', 'shares_to_likes']])"
   ]
  },
  {
   "cell_type": "code",
   "execution_count": 28,
   "id": "99a8818c",
   "metadata": {
    "execution": {
     "iopub.execute_input": "2024-03-19T09:00:29.235780Z",
     "iopub.status.busy": "2024-03-19T09:00:29.235399Z",
     "iopub.status.idle": "2024-03-19T09:00:29.787875Z",
     "shell.execute_reply": "2024-03-19T09:00:29.786643Z"
    },
    "papermill": {
     "duration": 0.571315,
     "end_time": "2024-03-19T09:00:29.790372",
     "exception": false,
     "start_time": "2024-03-19T09:00:29.219057",
     "status": "completed"
    },
    "tags": []
   },
   "outputs": [
    {
     "name": "stderr",
     "output_type": "stream",
     "text": [
      "/opt/conda/lib/python3.10/site-packages/seaborn/categorical.py:641: FutureWarning: The default of observed=False is deprecated and will be changed to True in a future version of pandas. Pass observed=False to retain current behavior or observed=True to adopt the future default and silence this warning.\n",
      "  grouped_vals = vals.groupby(grouper)\n",
      "/opt/conda/lib/python3.10/site-packages/seaborn/categorical.py:641: FutureWarning: The default of observed=False is deprecated and will be changed to True in a future version of pandas. Pass observed=False to retain current behavior or observed=True to adopt the future default and silence this warning.\n",
      "  grouped_vals = vals.groupby(grouper)\n"
     ]
    },
    {
     "data": {
      "image/png": "[encoded data removed]",
      "text/plain": [
       "<Figure size 1000x600 with 2 Axes>"
      ]
     },
     "metadata": {},
     "output_type": "display_data"
    }
   ],
   "source": [
    "# Visualize Engagement Ratios by Sentiment\n",
    "plt.figure(figsize=(10, 6))\n",
    "plt.subplot(1, 2, 1)\n",
    "sns.barplot(x='sentiment_category', y='comments_to_likes', data=engagement_ratios_by_sentiment)\n",
    "plt.title('Comments to Likes Ratio by Sentiment')\n",
    "plt.xticks(rotation=45)\n",
    "\n",
    "plt.subplot(1, 2, 2)\n",
    "sns.barplot(x='sentiment_category', y='shares_to_likes', data=engagement_ratios_by_sentiment)\n",
    "plt.title('Shares to Likes Ratio by Sentiment')\n",
    "plt.xticks(rotation=45)\n",
    "\n",
    "plt.tight_layout()\n",
    "plt.show()"
   ]
  },
  {
   "cell_type": "markdown",
   "id": "d476236c",
   "metadata": {
    "papermill": {
     "duration": 0.016299,
     "end_time": "2024-03-19T09:00:29.822463",
     "exception": false,
     "start_time": "2024-03-19T09:00:29.806164",
     "status": "completed"
    },
    "tags": []
   },
   "source": [
    "The ratios indicate that the sentiment of the content has a significant impact on user engagement behaviors. For example:\n",
    "\n",
    "* Negative sentiment tends to provoke more comments compared to positive or neutral sentiment. This could be because negative content often elicits strong emotional reactions or prompts users to express their opinions or concerns.\n",
    "\n",
    "* Positive sentiment, while still generating engagement, may result in fewer comments and shares compared to negative sentiment. This suggests that positive content might be more likely to be passively consumed or enjoyed without necessarily prompting extensive discussion or sharing.\n",
    "\n",
    "* Neutral sentiment falls between negative and positive sentiment in terms of engagement metrics, indicating a moderate level of interaction from users."
   ]
  }
 ],
 "metadata": {
  "kaggle": {
   "accelerator": "none",
   "dataSources": [
    {
     "datasetId": 4602254,
     "sourceId": 7848496,
     "sourceType": "datasetVersion"
    }
   ],
   "dockerImageVersionId": 30664,
   "isGpuEnabled": false,
   "isInternetEnabled": true,
   "language": "python",
   "sourceType": "notebook"
  },
  "kernelspec": {
   "display_name": "Python 3",
   "language": "python",
   "name": "python3"
  },
  "language_info": {
   "codemirror_mode": {
    "name": "ipython",
    "version": 3
   },
   "file_extension": ".py",
   "mimetype": "text/x-python",
   "name": "python",
   "nbconvert_exporter": "python",
   "pygments_lexer": "ipython3",
   "version": "3.10.13"
  },
  "papermill": {
   "default_parameters": {},
   "duration": 12.676678,
   "end_time": "2024-03-19T09:00:30.561582",
   "environment_variables": {},
   "exception": null,
   "input_path": "__notebook__.ipynb",
   "output_path": "__notebook__.ipynb",
   "parameters": {},
   "start_time": "2024-03-19T09:00:17.884904",
   "version": "2.5.0"
  }
 },
 "nbformat": 4,
 "nbformat_minor": 5
}
